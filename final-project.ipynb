{
 "cells": [
  {
   "cell_type": "code",
   "execution_count": 56,
   "id": "sporting-candy",
   "metadata": {},
   "outputs": [],
   "source": [
    "import pandas as pd\n",
    "from sklearn.feature_extraction.text import TfidfVectorizer, CountVectorizer\n",
    "from sklearn.decomposition import NMF, LatentDirichletAllocation\n",
    "from sklearn.feature_extraction.text import ENGLISH_STOP_WORDS\n",
    "import matplotlib.pyplot as plt\n",
    "import nltk\n",
    "from nltk.stem.porter import *\n",
    "from nltk.corpus import stopwords\n",
    "from nltk.stem import WordNetLemmatizer\n",
    "from nltk.tokenize import word_tokenize\n",
    "from nltk.stem import WordNetLemmatizer\n",
    "import string"
   ]
  },
  {
   "cell_type": "code",
   "execution_count": 16,
   "id": "surprising-benefit",
   "metadata": {
    "scrolled": true
   },
   "outputs": [
    {
     "data": {
      "text/html": [
       "<div>\n",
       "<style scoped>\n",
       "    .dataframe tbody tr th:only-of-type {\n",
       "        vertical-align: middle;\n",
       "    }\n",
       "\n",
       "    .dataframe tbody tr th {\n",
       "        vertical-align: top;\n",
       "    }\n",
       "\n",
       "    .dataframe thead th {\n",
       "        text-align: right;\n",
       "    }\n",
       "</style>\n",
       "<table border=\"1\" class=\"dataframe\">\n",
       "  <thead>\n",
       "    <tr style=\"text-align: right;\">\n",
       "      <th></th>\n",
       "      <th>Show Number</th>\n",
       "      <th>Air Date</th>\n",
       "      <th>Round</th>\n",
       "      <th>Category</th>\n",
       "      <th>Value</th>\n",
       "      <th>Question</th>\n",
       "      <th>Answer</th>\n",
       "    </tr>\n",
       "  </thead>\n",
       "  <tbody>\n",
       "    <tr>\n",
       "      <th>0</th>\n",
       "      <td>4680</td>\n",
       "      <td>2004-12-31</td>\n",
       "      <td>Jeopardy!</td>\n",
       "      <td>HISTORY</td>\n",
       "      <td>$200</td>\n",
       "      <td>For the last 8 years of his life, Galileo was ...</td>\n",
       "      <td>Copernicus</td>\n",
       "    </tr>\n",
       "    <tr>\n",
       "      <th>1</th>\n",
       "      <td>4680</td>\n",
       "      <td>2004-12-31</td>\n",
       "      <td>Jeopardy!</td>\n",
       "      <td>ESPN's TOP 10 ALL-TIME ATHLETES</td>\n",
       "      <td>$200</td>\n",
       "      <td>No. 2: 1912 Olympian; football star at Carlisl...</td>\n",
       "      <td>Jim Thorpe</td>\n",
       "    </tr>\n",
       "    <tr>\n",
       "      <th>2</th>\n",
       "      <td>4680</td>\n",
       "      <td>2004-12-31</td>\n",
       "      <td>Jeopardy!</td>\n",
       "      <td>EVERYBODY TALKS ABOUT IT...</td>\n",
       "      <td>$200</td>\n",
       "      <td>The city of Yuma in this state has a record av...</td>\n",
       "      <td>Arizona</td>\n",
       "    </tr>\n",
       "    <tr>\n",
       "      <th>3</th>\n",
       "      <td>4680</td>\n",
       "      <td>2004-12-31</td>\n",
       "      <td>Jeopardy!</td>\n",
       "      <td>THE COMPANY LINE</td>\n",
       "      <td>$200</td>\n",
       "      <td>In 1963, live on \"The Art Linkletter Show\", th...</td>\n",
       "      <td>McDonald's</td>\n",
       "    </tr>\n",
       "    <tr>\n",
       "      <th>4</th>\n",
       "      <td>4680</td>\n",
       "      <td>2004-12-31</td>\n",
       "      <td>Jeopardy!</td>\n",
       "      <td>EPITAPHS &amp; TRIBUTES</td>\n",
       "      <td>$200</td>\n",
       "      <td>Signer of the Dec. of Indep., framer of the Co...</td>\n",
       "      <td>John Adams</td>\n",
       "    </tr>\n",
       "  </tbody>\n",
       "</table>\n",
       "</div>"
      ],
      "text/plain": [
       "   Show Number    Air Date      Round                         Category  Value  \\\n",
       "0         4680  2004-12-31  Jeopardy!                          HISTORY   $200   \n",
       "1         4680  2004-12-31  Jeopardy!  ESPN's TOP 10 ALL-TIME ATHLETES   $200   \n",
       "2         4680  2004-12-31  Jeopardy!      EVERYBODY TALKS ABOUT IT...   $200   \n",
       "3         4680  2004-12-31  Jeopardy!                 THE COMPANY LINE   $200   \n",
       "4         4680  2004-12-31  Jeopardy!              EPITAPHS & TRIBUTES   $200   \n",
       "\n",
       "                                            Question      Answer  \n",
       "0  For the last 8 years of his life, Galileo was ...  Copernicus  \n",
       "1  No. 2: 1912 Olympian; football star at Carlisl...  Jim Thorpe  \n",
       "2  The city of Yuma in this state has a record av...     Arizona  \n",
       "3  In 1963, live on \"The Art Linkletter Show\", th...  McDonald's  \n",
       "4  Signer of the Dec. of Indep., framer of the Co...  John Adams  "
      ]
     },
     "execution_count": 16,
     "metadata": {},
     "output_type": "execute_result"
    }
   ],
   "source": [
    "data = pd.read_csv('data/jeopardy.csv')\n",
    "red_data = data.dropna()\n",
    "red_data.head()"
   ]
  },
  {
   "cell_type": "code",
   "execution_count": 17,
   "id": "super-boulder",
   "metadata": {},
   "outputs": [],
   "source": [
    "new_cols = {s:s.strip() for s in red_data.columns}\n",
    "red_data = red_data.rename(columns=new_cols)"
   ]
  },
  {
   "cell_type": "code",
   "execution_count": 18,
   "id": "typical-frank",
   "metadata": {
    "scrolled": false
   },
   "outputs": [
    {
     "data": {
      "text/html": [
       "<div>\n",
       "<style scoped>\n",
       "    .dataframe tbody tr th:only-of-type {\n",
       "        vertical-align: middle;\n",
       "    }\n",
       "\n",
       "    .dataframe tbody tr th {\n",
       "        vertical-align: top;\n",
       "    }\n",
       "\n",
       "    .dataframe thead th {\n",
       "        text-align: right;\n",
       "    }\n",
       "</style>\n",
       "<table border=\"1\" class=\"dataframe\">\n",
       "  <thead>\n",
       "    <tr style=\"text-align: right;\">\n",
       "      <th></th>\n",
       "      <th>Show Number</th>\n",
       "      <th>Air Date</th>\n",
       "      <th>Round</th>\n",
       "      <th>Category</th>\n",
       "      <th>Value</th>\n",
       "      <th>Question</th>\n",
       "      <th>Answer</th>\n",
       "      <th>AirDate</th>\n",
       "      <th>year</th>\n",
       "    </tr>\n",
       "  </thead>\n",
       "  <tbody>\n",
       "    <tr>\n",
       "      <th>0</th>\n",
       "      <td>4680</td>\n",
       "      <td>2004-12-31</td>\n",
       "      <td>Jeopardy!</td>\n",
       "      <td>HISTORY</td>\n",
       "      <td>$200</td>\n",
       "      <td>For the last 8 years of his life, Galileo was ...</td>\n",
       "      <td>Copernicus</td>\n",
       "      <td>2004-12-31</td>\n",
       "      <td>2004</td>\n",
       "    </tr>\n",
       "    <tr>\n",
       "      <th>1</th>\n",
       "      <td>4680</td>\n",
       "      <td>2004-12-31</td>\n",
       "      <td>Jeopardy!</td>\n",
       "      <td>ESPN's TOP 10 ALL-TIME ATHLETES</td>\n",
       "      <td>$200</td>\n",
       "      <td>No. 2: 1912 Olympian; football star at Carlisl...</td>\n",
       "      <td>Jim Thorpe</td>\n",
       "      <td>2004-12-31</td>\n",
       "      <td>2004</td>\n",
       "    </tr>\n",
       "    <tr>\n",
       "      <th>2</th>\n",
       "      <td>4680</td>\n",
       "      <td>2004-12-31</td>\n",
       "      <td>Jeopardy!</td>\n",
       "      <td>EVERYBODY TALKS ABOUT IT...</td>\n",
       "      <td>$200</td>\n",
       "      <td>The city of Yuma in this state has a record av...</td>\n",
       "      <td>Arizona</td>\n",
       "      <td>2004-12-31</td>\n",
       "      <td>2004</td>\n",
       "    </tr>\n",
       "    <tr>\n",
       "      <th>3</th>\n",
       "      <td>4680</td>\n",
       "      <td>2004-12-31</td>\n",
       "      <td>Jeopardy!</td>\n",
       "      <td>THE COMPANY LINE</td>\n",
       "      <td>$200</td>\n",
       "      <td>In 1963, live on \"The Art Linkletter Show\", th...</td>\n",
       "      <td>McDonald's</td>\n",
       "      <td>2004-12-31</td>\n",
       "      <td>2004</td>\n",
       "    </tr>\n",
       "    <tr>\n",
       "      <th>4</th>\n",
       "      <td>4680</td>\n",
       "      <td>2004-12-31</td>\n",
       "      <td>Jeopardy!</td>\n",
       "      <td>EPITAPHS &amp; TRIBUTES</td>\n",
       "      <td>$200</td>\n",
       "      <td>Signer of the Dec. of Indep., framer of the Co...</td>\n",
       "      <td>John Adams</td>\n",
       "      <td>2004-12-31</td>\n",
       "      <td>2004</td>\n",
       "    </tr>\n",
       "  </tbody>\n",
       "</table>\n",
       "</div>"
      ],
      "text/plain": [
       "   Show Number    Air Date      Round                         Category Value  \\\n",
       "0         4680  2004-12-31  Jeopardy!                          HISTORY  $200   \n",
       "1         4680  2004-12-31  Jeopardy!  ESPN's TOP 10 ALL-TIME ATHLETES  $200   \n",
       "2         4680  2004-12-31  Jeopardy!      EVERYBODY TALKS ABOUT IT...  $200   \n",
       "3         4680  2004-12-31  Jeopardy!                 THE COMPANY LINE  $200   \n",
       "4         4680  2004-12-31  Jeopardy!              EPITAPHS & TRIBUTES  $200   \n",
       "\n",
       "                                            Question      Answer    AirDate  \\\n",
       "0  For the last 8 years of his life, Galileo was ...  Copernicus 2004-12-31   \n",
       "1  No. 2: 1912 Olympian; football star at Carlisl...  Jim Thorpe 2004-12-31   \n",
       "2  The city of Yuma in this state has a record av...     Arizona 2004-12-31   \n",
       "3  In 1963, live on \"The Art Linkletter Show\", th...  McDonald's 2004-12-31   \n",
       "4  Signer of the Dec. of Indep., framer of the Co...  John Adams 2004-12-31   \n",
       "\n",
       "   year  \n",
       "0  2004  \n",
       "1  2004  \n",
       "2  2004  \n",
       "3  2004  \n",
       "4  2004  "
      ]
     },
     "execution_count": 18,
     "metadata": {},
     "output_type": "execute_result"
    }
   ],
   "source": [
    "# data = data.rename(columns={' Question': 'question', ' Air Date': 'air_date', ' Round':'round'})\n",
    "red_data['AirDate'] = pd.to_datetime(red_data['Air Date'])\n",
    "red_data['year'] = pd.DatetimeIndex(red_data['Air Date']).year  # add year feature\n",
    "red_data.head()"
   ]
  },
  {
   "cell_type": "code",
   "execution_count": 19,
   "id": "martial-webster",
   "metadata": {},
   "outputs": [],
   "source": [
    "round_list = red_data['Round'].unique()"
   ]
  },
  {
   "cell_type": "code",
   "execution_count": 20,
   "id": "minimal-video",
   "metadata": {},
   "outputs": [],
   "source": [
    "j_data = red_data[red_data['Round'] == 'Jeopardy!']\n",
    "dj_data = red_data[red_data['Round'] == 'Double Jeopardy!']\n",
    "fj_data = red_data[red_data['Round'] == 'Final Jeopardy!']"
   ]
  },
  {
   "cell_type": "code",
   "execution_count": 21,
   "id": "diverse-florida",
   "metadata": {
    "scrolled": true
   },
   "outputs": [
    {
     "data": {
      "text/plain": [
       "array([2004, 2010, 2000, 2006, 2009, 1996, 2007, 1997, 2002, 2003, 2001,\n",
       "       1990, 1999, 2008, 2011, 2005, 1998, 2012, 1992, 1986, 1985, 1991,\n",
       "       1993, 1994, 1988, 1987, 1995, 1984, 1989])"
      ]
     },
     "execution_count": 21,
     "metadata": {},
     "output_type": "execute_result"
    }
   ],
   "source": [
    "years = red_data.year.unique()\n",
    "years"
   ]
  },
  {
   "cell_type": "code",
   "execution_count": 24,
   "id": "female-lucas",
   "metadata": {},
   "outputs": [],
   "source": [
    "data_dict = {}\n",
    "for roun in round_list[:-1]:\n",
    "    roun_data = red_data[red_data['Round'] == roun]\n",
    "    for year in years:\n",
    "        data_dict[f'{roun}-{year}'] = list(red_data.Question.values)"
   ]
  },
  {
   "cell_type": "code",
   "execution_count": 130,
   "id": "dietary-jason",
   "metadata": {
    "scrolled": true
   },
   "outputs": [],
   "source": [
    "corpus = list(data_dict.values())\n",
    "new_corpus = [(' ').join(doc) for doc in corpus]"
   ]
  },
  {
   "cell_type": "code",
   "execution_count": 135,
   "id": "banner-registration",
   "metadata": {},
   "outputs": [],
   "source": [
    "def tokenize(text):\n",
    "    \"\"\"\n",
    "    Tokenize text and return a non-unique list of tokenized words\n",
    "    found in the text. Normalize to lowercase, strip punctuation,\n",
    "    remove stop words, drop words of length < 3, strip digits.\n",
    "    \"\"\"\n",
    "    text = text.lower()\n",
    "    text = re.sub('[' + string.punctuation + '0-9\\\\r\\\\t\\\\n]', ' ', text)\n",
    "    tokens = nltk.word_tokenize(text)\n",
    "    tokens = [w for w in tokens if len(w) > 2]  # ignore a, an, to, at, be,\n",
    "    tokens = [w for w in tokens if w not in ENGLISH_STOP_WORDS]  # remove any stop words in list of words\n",
    "    return tokens\n",
    "\n",
    "\n",
    "def stemwords(words):\n",
    "    \"\"\"\n",
    "    Given a list of tokens/words, return a new list with each word\n",
    "    stemmed using a PorterStemmer.\n",
    "    \"\"\"\n",
    "    stemmer = PorterStemmer()\n",
    "    return [stemmer.stem(word) for word in words]  # returns list of stemmed words\n",
    "\n",
    "\n",
    "def tokenizer(text):  # function to split text into a list of stemmed words\n",
    "    return stemwords(tokenize(text))\n",
    "\n",
    "\n"
   ]
  },
  {
   "cell_type": "code",
   "execution_count": 109,
   "id": "general-eating",
   "metadata": {},
   "outputs": [],
   "source": [
    "n_features = 1000\n",
    "n_components = 10\n",
    "n_top_words = 20"
   ]
  },
  {
   "cell_type": "code",
   "execution_count": 142,
   "id": "latter-devil",
   "metadata": {},
   "outputs": [],
   "source": [
    "# tfidf_vectorizer = TfidfVectorizer(max_df=0.95, min_df=2,\n",
    "#                                    max_features=n_features,\n",
    "#                                    stop_words='english')\n",
    "\n",
    "tfidf_vectorizer = TfidfVectorizer(input='content',\n",
    "                                   analyzer='word',\n",
    "                                   tokenizer=tokenizer,\n",
    "                                   max_features=n_features, stop_words='english')"
   ]
  },
  {
   "cell_type": "code",
   "execution_count": 143,
   "id": "heated-cannon",
   "metadata": {
    "scrolled": true
   },
   "outputs": [
    {
     "ename": "KeyboardInterrupt",
     "evalue": "",
     "output_type": "error",
     "traceback": [
      "\u001b[0;31m---------------------------------------------------------------------------\u001b[0m",
      "\u001b[0;31mKeyboardInterrupt\u001b[0m                         Traceback (most recent call last)",
      "\u001b[0;32m<ipython-input-143-e8b01bd10424>\u001b[0m in \u001b[0;36m<module>\u001b[0;34m\u001b[0m\n\u001b[0;32m----> 1\u001b[0;31m \u001b[0mtfidf\u001b[0m \u001b[0;34m=\u001b[0m \u001b[0mtfidf_vectorizer\u001b[0m\u001b[0;34m.\u001b[0m\u001b[0mfit_transform\u001b[0m\u001b[0;34m(\u001b[0m\u001b[0mnew_corpus\u001b[0m\u001b[0;34m)\u001b[0m\u001b[0;34m\u001b[0m\u001b[0;34m\u001b[0m\u001b[0m\n\u001b[0m",
      "\u001b[0;32m~/opt/anaconda3/lib/python3.8/site-packages/sklearn/feature_extraction/text.py\u001b[0m in \u001b[0;36mfit_transform\u001b[0;34m(self, raw_documents, y)\u001b[0m\n\u001b[1;32m   1838\u001b[0m         \"\"\"\n\u001b[1;32m   1839\u001b[0m         \u001b[0mself\u001b[0m\u001b[0;34m.\u001b[0m\u001b[0m_check_params\u001b[0m\u001b[0;34m(\u001b[0m\u001b[0;34m)\u001b[0m\u001b[0;34m\u001b[0m\u001b[0;34m\u001b[0m\u001b[0m\n\u001b[0;32m-> 1840\u001b[0;31m         \u001b[0mX\u001b[0m \u001b[0;34m=\u001b[0m \u001b[0msuper\u001b[0m\u001b[0;34m(\u001b[0m\u001b[0;34m)\u001b[0m\u001b[0;34m.\u001b[0m\u001b[0mfit_transform\u001b[0m\u001b[0;34m(\u001b[0m\u001b[0mraw_documents\u001b[0m\u001b[0;34m)\u001b[0m\u001b[0;34m\u001b[0m\u001b[0;34m\u001b[0m\u001b[0m\n\u001b[0m\u001b[1;32m   1841\u001b[0m         \u001b[0mself\u001b[0m\u001b[0;34m.\u001b[0m\u001b[0m_tfidf\u001b[0m\u001b[0;34m.\u001b[0m\u001b[0mfit\u001b[0m\u001b[0;34m(\u001b[0m\u001b[0mX\u001b[0m\u001b[0;34m)\u001b[0m\u001b[0;34m\u001b[0m\u001b[0;34m\u001b[0m\u001b[0m\n\u001b[1;32m   1842\u001b[0m         \u001b[0;31m# X is already a transformed view of raw_documents so\u001b[0m\u001b[0;34m\u001b[0m\u001b[0;34m\u001b[0m\u001b[0;34m\u001b[0m\u001b[0m\n",
      "\u001b[0;32m~/opt/anaconda3/lib/python3.8/site-packages/sklearn/feature_extraction/text.py\u001b[0m in \u001b[0;36mfit_transform\u001b[0;34m(self, raw_documents, y)\u001b[0m\n\u001b[1;32m   1196\u001b[0m         \u001b[0mmax_features\u001b[0m \u001b[0;34m=\u001b[0m \u001b[0mself\u001b[0m\u001b[0;34m.\u001b[0m\u001b[0mmax_features\u001b[0m\u001b[0;34m\u001b[0m\u001b[0;34m\u001b[0m\u001b[0m\n\u001b[1;32m   1197\u001b[0m \u001b[0;34m\u001b[0m\u001b[0m\n\u001b[0;32m-> 1198\u001b[0;31m         vocabulary, X = self._count_vocab(raw_documents,\n\u001b[0m\u001b[1;32m   1199\u001b[0m                                           self.fixed_vocabulary_)\n\u001b[1;32m   1200\u001b[0m \u001b[0;34m\u001b[0m\u001b[0m\n",
      "\u001b[0;32m~/opt/anaconda3/lib/python3.8/site-packages/sklearn/feature_extraction/text.py\u001b[0m in \u001b[0;36m_count_vocab\u001b[0;34m(self, raw_documents, fixed_vocab)\u001b[0m\n\u001b[1;32m   1108\u001b[0m         \u001b[0;32mfor\u001b[0m \u001b[0mdoc\u001b[0m \u001b[0;32min\u001b[0m \u001b[0mraw_documents\u001b[0m\u001b[0;34m:\u001b[0m\u001b[0;34m\u001b[0m\u001b[0;34m\u001b[0m\u001b[0m\n\u001b[1;32m   1109\u001b[0m             \u001b[0mfeature_counter\u001b[0m \u001b[0;34m=\u001b[0m \u001b[0;34m{\u001b[0m\u001b[0;34m}\u001b[0m\u001b[0;34m\u001b[0m\u001b[0;34m\u001b[0m\u001b[0m\n\u001b[0;32m-> 1110\u001b[0;31m             \u001b[0;32mfor\u001b[0m \u001b[0mfeature\u001b[0m \u001b[0;32min\u001b[0m \u001b[0manalyze\u001b[0m\u001b[0;34m(\u001b[0m\u001b[0mdoc\u001b[0m\u001b[0;34m)\u001b[0m\u001b[0;34m:\u001b[0m\u001b[0;34m\u001b[0m\u001b[0;34m\u001b[0m\u001b[0m\n\u001b[0m\u001b[1;32m   1111\u001b[0m                 \u001b[0;32mtry\u001b[0m\u001b[0;34m:\u001b[0m\u001b[0;34m\u001b[0m\u001b[0;34m\u001b[0m\u001b[0m\n\u001b[1;32m   1112\u001b[0m                     \u001b[0mfeature_idx\u001b[0m \u001b[0;34m=\u001b[0m \u001b[0mvocabulary\u001b[0m\u001b[0;34m[\u001b[0m\u001b[0mfeature\u001b[0m\u001b[0;34m]\u001b[0m\u001b[0;34m\u001b[0m\u001b[0;34m\u001b[0m\u001b[0m\n",
      "\u001b[0;32m~/opt/anaconda3/lib/python3.8/site-packages/sklearn/feature_extraction/text.py\u001b[0m in \u001b[0;36m_analyze\u001b[0;34m(doc, analyzer, tokenizer, ngrams, preprocessor, decoder, stop_words)\u001b[0m\n\u001b[1;32m    104\u001b[0m             \u001b[0mdoc\u001b[0m \u001b[0;34m=\u001b[0m \u001b[0mpreprocessor\u001b[0m\u001b[0;34m(\u001b[0m\u001b[0mdoc\u001b[0m\u001b[0;34m)\u001b[0m\u001b[0;34m\u001b[0m\u001b[0;34m\u001b[0m\u001b[0m\n\u001b[1;32m    105\u001b[0m         \u001b[0;32mif\u001b[0m \u001b[0mtokenizer\u001b[0m \u001b[0;32mis\u001b[0m \u001b[0;32mnot\u001b[0m \u001b[0;32mNone\u001b[0m\u001b[0;34m:\u001b[0m\u001b[0;34m\u001b[0m\u001b[0;34m\u001b[0m\u001b[0m\n\u001b[0;32m--> 106\u001b[0;31m             \u001b[0mdoc\u001b[0m \u001b[0;34m=\u001b[0m \u001b[0mtokenizer\u001b[0m\u001b[0;34m(\u001b[0m\u001b[0mdoc\u001b[0m\u001b[0;34m)\u001b[0m\u001b[0;34m\u001b[0m\u001b[0;34m\u001b[0m\u001b[0m\n\u001b[0m\u001b[1;32m    107\u001b[0m         \u001b[0;32mif\u001b[0m \u001b[0mngrams\u001b[0m \u001b[0;32mis\u001b[0m \u001b[0;32mnot\u001b[0m \u001b[0;32mNone\u001b[0m\u001b[0;34m:\u001b[0m\u001b[0;34m\u001b[0m\u001b[0;34m\u001b[0m\u001b[0m\n\u001b[1;32m    108\u001b[0m             \u001b[0;32mif\u001b[0m \u001b[0mstop_words\u001b[0m \u001b[0;32mis\u001b[0m \u001b[0;32mnot\u001b[0m \u001b[0;32mNone\u001b[0m\u001b[0;34m:\u001b[0m\u001b[0;34m\u001b[0m\u001b[0;34m\u001b[0m\u001b[0m\n",
      "\u001b[0;32m<ipython-input-135-8d6fdff7347c>\u001b[0m in \u001b[0;36mtokenizer\u001b[0;34m(text)\u001b[0m\n\u001b[1;32m     23\u001b[0m \u001b[0;34m\u001b[0m\u001b[0m\n\u001b[1;32m     24\u001b[0m \u001b[0;32mdef\u001b[0m \u001b[0mtokenizer\u001b[0m\u001b[0;34m(\u001b[0m\u001b[0mtext\u001b[0m\u001b[0;34m)\u001b[0m\u001b[0;34m:\u001b[0m  \u001b[0;31m# function to split text into a list of stemmed words\u001b[0m\u001b[0;34m\u001b[0m\u001b[0;34m\u001b[0m\u001b[0m\n\u001b[0;32m---> 25\u001b[0;31m     \u001b[0;32mreturn\u001b[0m \u001b[0mstemwords\u001b[0m\u001b[0;34m(\u001b[0m\u001b[0mtokenize\u001b[0m\u001b[0;34m(\u001b[0m\u001b[0mtext\u001b[0m\u001b[0;34m)\u001b[0m\u001b[0;34m)\u001b[0m\u001b[0;34m\u001b[0m\u001b[0;34m\u001b[0m\u001b[0m\n\u001b[0m\u001b[1;32m     26\u001b[0m \u001b[0;34m\u001b[0m\u001b[0m\n\u001b[1;32m     27\u001b[0m \u001b[0;34m\u001b[0m\u001b[0m\n",
      "\u001b[0;32m<ipython-input-135-8d6fdff7347c>\u001b[0m in \u001b[0;36mtokenize\u001b[0;34m(text)\u001b[0m\n\u001b[1;32m      7\u001b[0m     \u001b[0mtext\u001b[0m \u001b[0;34m=\u001b[0m \u001b[0mtext\u001b[0m\u001b[0;34m.\u001b[0m\u001b[0mlower\u001b[0m\u001b[0;34m(\u001b[0m\u001b[0;34m)\u001b[0m\u001b[0;34m\u001b[0m\u001b[0;34m\u001b[0m\u001b[0m\n\u001b[1;32m      8\u001b[0m     \u001b[0mtext\u001b[0m \u001b[0;34m=\u001b[0m \u001b[0mre\u001b[0m\u001b[0;34m.\u001b[0m\u001b[0msub\u001b[0m\u001b[0;34m(\u001b[0m\u001b[0;34m'['\u001b[0m \u001b[0;34m+\u001b[0m \u001b[0mstring\u001b[0m\u001b[0;34m.\u001b[0m\u001b[0mpunctuation\u001b[0m \u001b[0;34m+\u001b[0m \u001b[0;34m'0-9\\\\r\\\\t\\\\n]'\u001b[0m\u001b[0;34m,\u001b[0m \u001b[0;34m' '\u001b[0m\u001b[0;34m,\u001b[0m \u001b[0mtext\u001b[0m\u001b[0;34m)\u001b[0m\u001b[0;34m\u001b[0m\u001b[0;34m\u001b[0m\u001b[0m\n\u001b[0;32m----> 9\u001b[0;31m     \u001b[0mtokens\u001b[0m \u001b[0;34m=\u001b[0m \u001b[0mnltk\u001b[0m\u001b[0;34m.\u001b[0m\u001b[0mword_tokenize\u001b[0m\u001b[0;34m(\u001b[0m\u001b[0mtext\u001b[0m\u001b[0;34m)\u001b[0m\u001b[0;34m\u001b[0m\u001b[0;34m\u001b[0m\u001b[0m\n\u001b[0m\u001b[1;32m     10\u001b[0m     \u001b[0mtokens\u001b[0m \u001b[0;34m=\u001b[0m \u001b[0;34m[\u001b[0m\u001b[0mw\u001b[0m \u001b[0;32mfor\u001b[0m \u001b[0mw\u001b[0m \u001b[0;32min\u001b[0m \u001b[0mtokens\u001b[0m \u001b[0;32mif\u001b[0m \u001b[0mlen\u001b[0m\u001b[0;34m(\u001b[0m\u001b[0mw\u001b[0m\u001b[0;34m)\u001b[0m \u001b[0;34m>\u001b[0m \u001b[0;36m2\u001b[0m\u001b[0;34m]\u001b[0m  \u001b[0;31m# ignore a, an, to, at, be,\u001b[0m\u001b[0;34m\u001b[0m\u001b[0;34m\u001b[0m\u001b[0m\n\u001b[1;32m     11\u001b[0m     \u001b[0mtokens\u001b[0m \u001b[0;34m=\u001b[0m \u001b[0;34m[\u001b[0m\u001b[0mw\u001b[0m \u001b[0;32mfor\u001b[0m \u001b[0mw\u001b[0m \u001b[0;32min\u001b[0m \u001b[0mtokens\u001b[0m \u001b[0;32mif\u001b[0m \u001b[0mw\u001b[0m \u001b[0;32mnot\u001b[0m \u001b[0;32min\u001b[0m \u001b[0mENGLISH_STOP_WORDS\u001b[0m\u001b[0;34m]\u001b[0m  \u001b[0;31m# remove any stop words in list of words\u001b[0m\u001b[0;34m\u001b[0m\u001b[0;34m\u001b[0m\u001b[0m\n",
      "\u001b[0;32m~/opt/anaconda3/lib/python3.8/site-packages/nltk/tokenize/__init__.py\u001b[0m in \u001b[0;36mword_tokenize\u001b[0;34m(text, language, preserve_line)\u001b[0m\n\u001b[1;32m    128\u001b[0m     \"\"\"\n\u001b[1;32m    129\u001b[0m     \u001b[0msentences\u001b[0m \u001b[0;34m=\u001b[0m \u001b[0;34m[\u001b[0m\u001b[0mtext\u001b[0m\u001b[0;34m]\u001b[0m \u001b[0;32mif\u001b[0m \u001b[0mpreserve_line\u001b[0m \u001b[0;32melse\u001b[0m \u001b[0msent_tokenize\u001b[0m\u001b[0;34m(\u001b[0m\u001b[0mtext\u001b[0m\u001b[0;34m,\u001b[0m \u001b[0mlanguage\u001b[0m\u001b[0;34m)\u001b[0m\u001b[0;34m\u001b[0m\u001b[0;34m\u001b[0m\u001b[0m\n\u001b[0;32m--> 130\u001b[0;31m     return [\n\u001b[0m\u001b[1;32m    131\u001b[0m         \u001b[0mtoken\u001b[0m \u001b[0;32mfor\u001b[0m \u001b[0msent\u001b[0m \u001b[0;32min\u001b[0m \u001b[0msentences\u001b[0m \u001b[0;32mfor\u001b[0m \u001b[0mtoken\u001b[0m \u001b[0;32min\u001b[0m \u001b[0m_treebank_word_tokenizer\u001b[0m\u001b[0;34m.\u001b[0m\u001b[0mtokenize\u001b[0m\u001b[0;34m(\u001b[0m\u001b[0msent\u001b[0m\u001b[0;34m)\u001b[0m\u001b[0;34m\u001b[0m\u001b[0;34m\u001b[0m\u001b[0m\n\u001b[1;32m    132\u001b[0m     ]\n",
      "\u001b[0;32m~/opt/anaconda3/lib/python3.8/site-packages/nltk/tokenize/__init__.py\u001b[0m in \u001b[0;36m<listcomp>\u001b[0;34m(.0)\u001b[0m\n\u001b[1;32m    129\u001b[0m     \u001b[0msentences\u001b[0m \u001b[0;34m=\u001b[0m \u001b[0;34m[\u001b[0m\u001b[0mtext\u001b[0m\u001b[0;34m]\u001b[0m \u001b[0;32mif\u001b[0m \u001b[0mpreserve_line\u001b[0m \u001b[0;32melse\u001b[0m \u001b[0msent_tokenize\u001b[0m\u001b[0;34m(\u001b[0m\u001b[0mtext\u001b[0m\u001b[0;34m,\u001b[0m \u001b[0mlanguage\u001b[0m\u001b[0;34m)\u001b[0m\u001b[0;34m\u001b[0m\u001b[0;34m\u001b[0m\u001b[0m\n\u001b[1;32m    130\u001b[0m     return [\n\u001b[0;32m--> 131\u001b[0;31m         \u001b[0mtoken\u001b[0m \u001b[0;32mfor\u001b[0m \u001b[0msent\u001b[0m \u001b[0;32min\u001b[0m \u001b[0msentences\u001b[0m \u001b[0;32mfor\u001b[0m \u001b[0mtoken\u001b[0m \u001b[0;32min\u001b[0m \u001b[0m_treebank_word_tokenizer\u001b[0m\u001b[0;34m.\u001b[0m\u001b[0mtokenize\u001b[0m\u001b[0;34m(\u001b[0m\u001b[0msent\u001b[0m\u001b[0;34m)\u001b[0m\u001b[0;34m\u001b[0m\u001b[0;34m\u001b[0m\u001b[0m\n\u001b[0m\u001b[1;32m    132\u001b[0m     ]\n",
      "\u001b[0;32m~/opt/anaconda3/lib/python3.8/site-packages/nltk/tokenize/destructive.py\u001b[0m in \u001b[0;36mtokenize\u001b[0;34m(self, text, convert_parentheses, return_str)\u001b[0m\n\u001b[1;32m    130\u001b[0m \u001b[0;34m\u001b[0m\u001b[0m\n\u001b[1;32m    131\u001b[0m         \u001b[0;32mfor\u001b[0m \u001b[0mregexp\u001b[0m \u001b[0;32min\u001b[0m \u001b[0mself\u001b[0m\u001b[0;34m.\u001b[0m\u001b[0mCONTRACTIONS2\u001b[0m\u001b[0;34m:\u001b[0m\u001b[0;34m\u001b[0m\u001b[0;34m\u001b[0m\u001b[0m\n\u001b[0;32m--> 132\u001b[0;31m             \u001b[0mtext\u001b[0m \u001b[0;34m=\u001b[0m \u001b[0mregexp\u001b[0m\u001b[0;34m.\u001b[0m\u001b[0msub\u001b[0m\u001b[0;34m(\u001b[0m\u001b[0;34mr\" \\1 \\2 \"\u001b[0m\u001b[0;34m,\u001b[0m \u001b[0mtext\u001b[0m\u001b[0;34m)\u001b[0m\u001b[0;34m\u001b[0m\u001b[0;34m\u001b[0m\u001b[0m\n\u001b[0m\u001b[1;32m    133\u001b[0m         \u001b[0;32mfor\u001b[0m \u001b[0mregexp\u001b[0m \u001b[0;32min\u001b[0m \u001b[0mself\u001b[0m\u001b[0;34m.\u001b[0m\u001b[0mCONTRACTIONS3\u001b[0m\u001b[0;34m:\u001b[0m\u001b[0;34m\u001b[0m\u001b[0;34m\u001b[0m\u001b[0m\n\u001b[1;32m    134\u001b[0m             \u001b[0mtext\u001b[0m \u001b[0;34m=\u001b[0m \u001b[0mregexp\u001b[0m\u001b[0;34m.\u001b[0m\u001b[0msub\u001b[0m\u001b[0;34m(\u001b[0m\u001b[0;34mr\" \\1 \\2 \"\u001b[0m\u001b[0;34m,\u001b[0m \u001b[0mtext\u001b[0m\u001b[0;34m)\u001b[0m\u001b[0;34m\u001b[0m\u001b[0;34m\u001b[0m\u001b[0m\n",
      "\u001b[0;32m~/opt/anaconda3/lib/python3.8/re.py\u001b[0m in \u001b[0;36mfilter\u001b[0;34m(match, template)\u001b[0m\n\u001b[1;32m    329\u001b[0m         \u001b[0;31m# literal replacement\u001b[0m\u001b[0;34m\u001b[0m\u001b[0;34m\u001b[0m\u001b[0;34m\u001b[0m\u001b[0m\n\u001b[1;32m    330\u001b[0m         \u001b[0;32mreturn\u001b[0m \u001b[0mtemplate\u001b[0m\u001b[0;34m[\u001b[0m\u001b[0;36m1\u001b[0m\u001b[0;34m]\u001b[0m\u001b[0;34m[\u001b[0m\u001b[0;36m0\u001b[0m\u001b[0;34m]\u001b[0m\u001b[0;34m\u001b[0m\u001b[0;34m\u001b[0m\u001b[0m\n\u001b[0;32m--> 331\u001b[0;31m     \u001b[0;32mdef\u001b[0m \u001b[0mfilter\u001b[0m\u001b[0;34m(\u001b[0m\u001b[0mmatch\u001b[0m\u001b[0;34m,\u001b[0m \u001b[0mtemplate\u001b[0m\u001b[0;34m=\u001b[0m\u001b[0mtemplate\u001b[0m\u001b[0;34m)\u001b[0m\u001b[0;34m:\u001b[0m\u001b[0;34m\u001b[0m\u001b[0;34m\u001b[0m\u001b[0m\n\u001b[0m\u001b[1;32m    332\u001b[0m         \u001b[0;32mreturn\u001b[0m \u001b[0msre_parse\u001b[0m\u001b[0;34m.\u001b[0m\u001b[0mexpand_template\u001b[0m\u001b[0;34m(\u001b[0m\u001b[0mtemplate\u001b[0m\u001b[0;34m,\u001b[0m \u001b[0mmatch\u001b[0m\u001b[0;34m)\u001b[0m\u001b[0;34m\u001b[0m\u001b[0;34m\u001b[0m\u001b[0m\n\u001b[1;32m    333\u001b[0m     \u001b[0;32mreturn\u001b[0m \u001b[0mfilter\u001b[0m\u001b[0;34m\u001b[0m\u001b[0;34m\u001b[0m\u001b[0m\n",
      "\u001b[0;31mKeyboardInterrupt\u001b[0m: "
     ]
    }
   ],
   "source": [
    "tfidf = tfidf_vectorizer.fit_transform(new_corpus)"
   ]
  },
  {
   "cell_type": "code",
   "execution_count": 116,
   "id": "included-kenya",
   "metadata": {},
   "outputs": [],
   "source": [
    "nmf = NMF(n_components=n_components, random_state=1,\n",
    "          alpha=.1, l1_ratio=.5).fit(tfidf)"
   ]
  },
  {
   "cell_type": "code",
   "execution_count": 120,
   "id": "environmental-shoulder",
   "metadata": {},
   "outputs": [
    {
     "data": {
      "image/png": "[encoded data removed]",
      "text/plain": [
       "<Figure size 2160x1080 with 10 Axes>"
      ]
     },
     "metadata": {
      "needs_background": "light"
     },
     "output_type": "display_data"
    }
   ],
   "source": [
    "tfidf_feature_names = tfidf_vectorizer.get_feature_names()\n",
    "plot_top_words(nmf, tfidf_feature_names, n_top_words,\n",
    "               'Topics in NMF model (Frobenius norm)')"
   ]
  },
  {
   "cell_type": "code",
   "execution_count": null,
   "id": "photographic-underground",
   "metadata": {},
   "outputs": [],
   "source": []
  },
  {
   "cell_type": "code",
   "execution_count": null,
   "id": "moral-writer",
   "metadata": {},
   "outputs": [],
   "source": [
    "vectorizer = TfidfVectorizer(stop_words='english')"
   ]
  },
  {
   "cell_type": "code",
   "execution_count": 118,
   "id": "instrumental-transcription",
   "metadata": {},
   "outputs": [],
   "source": [
    "def plot_top_words(model, feature_names, n_top_words, title):\n",
    "    fig, axes = plt.subplots(2, 5, figsize=(30, 15), sharex=True)\n",
    "    axes = axes.flatten()\n",
    "    for topic_idx, topic in enumerate(model.components_):\n",
    "        top_features_ind = topic.argsort()[:-n_top_words - 1:-1]\n",
    "        top_features = [feature_names[i] for i in top_features_ind]\n",
    "        weights = topic[top_features_ind]\n",
    "\n",
    "        ax = axes[topic_idx]\n",
    "        ax.barh(top_features, weights, height=0.7)\n",
    "        ax.set_title(f'Topic {topic_idx +1}',\n",
    "                     fontdict={'fontsize': 30})\n",
    "        ax.invert_yaxis()\n",
    "        ax.tick_params(axis='both', which='major', labelsize=20)\n",
    "        for i in 'top right left'.split():\n",
    "            ax.spines[i].set_visible(False)\n",
    "        fig.suptitle(title, fontsize=40)\n",
    "\n",
    "    plt.subplots_adjust(top=0.90, bottom=0.05, wspace=0.90, hspace=0.3)\n",
    "    plt.show()"
   ]
  },
  {
   "cell_type": "markdown",
   "id": "inappropriate-corruption",
   "metadata": {},
   "source": [
    "# Question 2"
   ]
  },
  {
   "cell_type": "markdown",
   "id": "smaller-group",
   "metadata": {},
   "source": [
    "## Jeopardy questions grouped by question value"
   ]
  },
  {
   "cell_type": "code",
   "execution_count": 25,
   "id": "offensive-robert",
   "metadata": {
    "scrolled": false
   },
   "outputs": [
    {
     "data": {
      "text/plain": [
       "Index(['Show Number', 'Air Date', 'Round', 'Category', 'Value', 'Question',\n",
       "       'Answer', 'AirDate', 'year'],\n",
       "      dtype='object')"
      ]
     },
     "execution_count": 25,
     "metadata": {},
     "output_type": "execute_result"
    }
   ],
   "source": [
    "j_data.columns"
   ]
  },
  {
   "cell_type": "code",
   "execution_count": 98,
   "id": "dominican-porter",
   "metadata": {},
   "outputs": [],
   "source": [
    "poss_values = ['$200', '$400', '$600', '$800', '$1000',  '$400', '$800', '$1200', '$1600', '$2000'\n",
    "              ]"
   ]
  },
  {
   "cell_type": "code",
   "execution_count": 101,
   "id": "wicked-ranch",
   "metadata": {},
   "outputs": [
    {
     "data": {
      "text/plain": [
       "array(['$200', '$400', '$600', '$800', '$2,000', '$1000', '$100', '$300',\n",
       "       '$500', '$1,200', '$2,200', '$3,000', '$1,500', '$1,600', '$1,800',\n",
       "       '$1,000', '$1,400', '$700', '$4,800', '$2,500', '$1,300', '$900',\n",
       "       '$3,600', '$3,200', '$2,800', '$1,100', '$5,000', '$3,389',\n",
       "       '$5,600', '$3,800', '$5', '$2,600', '$2,300', '$1,263', '$2,400',\n",
       "       '$6,600', '$4,200', '$2,700', '$350', '$3,400', '$4,000', '$1,700',\n",
       "       '$250', '$3,989', '$2,100', '$750', '$1,900', '$3,100', '$5,200',\n",
       "       '$3,500', '$4,600', '$796', '$6,000', '$2,900'], dtype=object)"
      ]
     },
     "execution_count": 101,
     "metadata": {},
     "output_type": "execute_result"
    }
   ],
   "source": [
    "j_data.Value.unique()"
   ]
  },
  {
   "cell_type": "code",
   "execution_count": 103,
   "id": "plain-niger",
   "metadata": {},
   "outputs": [],
   "source": [
    "j_data = j_data[j_data['Value'].isin(poss_values)]"
   ]
  },
  {
   "cell_type": "code",
   "execution_count": 104,
   "id": "proud-showcase",
   "metadata": {},
   "outputs": [],
   "source": [
    "j_data_val = j_data.groupby(by=['Value', 'Category']).agg({'Question': lambda x: ' '.join(x),\n",
    "                                                           'Answer': lambda x: ' '.join(x)})"
   ]
  },
  {
   "cell_type": "code",
   "execution_count": 105,
   "id": "superior-dayton",
   "metadata": {},
   "outputs": [],
   "source": [
    "j_data_val = j_data.groupby(by=['Value']).agg({'Category': lambda x: ' '.join(x),\n",
    "                                               'Question': lambda x: ' '.join(x),\n",
    "                                               'Answer': lambda x: ' '.join(x)})"
   ]
  },
  {
   "cell_type": "code",
   "execution_count": 106,
   "id": "certified-sheriff",
   "metadata": {},
   "outputs": [
    {
     "data": {
      "text/html": [
       "<div>\n",
       "<style scoped>\n",
       "    .dataframe tbody tr th:only-of-type {\n",
       "        vertical-align: middle;\n",
       "    }\n",
       "\n",
       "    .dataframe tbody tr th {\n",
       "        vertical-align: top;\n",
       "    }\n",
       "\n",
       "    .dataframe thead th {\n",
       "        text-align: right;\n",
       "    }\n",
       "</style>\n",
       "<table border=\"1\" class=\"dataframe\">\n",
       "  <thead>\n",
       "    <tr style=\"text-align: right;\">\n",
       "      <th></th>\n",
       "      <th>Category</th>\n",
       "      <th>Question</th>\n",
       "      <th>Answer</th>\n",
       "    </tr>\n",
       "    <tr>\n",
       "      <th>Value</th>\n",
       "      <th></th>\n",
       "      <th></th>\n",
       "      <th></th>\n",
       "    </tr>\n",
       "  </thead>\n",
       "  <tbody>\n",
       "    <tr>\n",
       "      <th>$1000</th>\n",
       "      <td>HISTORY ESPN's TOP 10 ALL-TIME ATHLETES THE CO...</td>\n",
       "      <td>This Asian political party was founded in 1885...</td>\n",
       "      <td>the Congress Party (Wilt) Chamberlain K2 Ethan...</td>\n",
       "    </tr>\n",
       "    <tr>\n",
       "      <th>$200</th>\n",
       "      <td>HISTORY ESPN's TOP 10 ALL-TIME ATHLETES EVERYB...</td>\n",
       "      <td>For the last 8 years of his life, Galileo was ...</td>\n",
       "      <td>Copernicus Jim Thorpe Arizona McDonald's John ...</td>\n",
       "    </tr>\n",
       "    <tr>\n",
       "      <th>$400</th>\n",
       "      <td>HISTORY ESPN's TOP 10 ALL-TIME ATHLETES EVERYB...</td>\n",
       "      <td>Built in 312 B.C. to link Rome &amp; the South of ...</td>\n",
       "      <td>the Appian Way Michael Jordan Washington Crate...</td>\n",
       "    </tr>\n",
       "    <tr>\n",
       "      <th>$600</th>\n",
       "      <td>HISTORY ESPN's TOP 10 ALL-TIME ATHLETES EVERYB...</td>\n",
       "      <td>In 1000 Rajaraja I of the Cholas battled to ta...</td>\n",
       "      <td>Ceylon (or Sri Lanka) Jim Brown the UV index B...</td>\n",
       "    </tr>\n",
       "    <tr>\n",
       "      <th>$800</th>\n",
       "      <td>HISTORY ESPN's TOP 10 ALL-TIME ATHLETES EVERYB...</td>\n",
       "      <td>Karl led the first of these Marxist organizati...</td>\n",
       "      <td>the International (Lou) Gehrig Morocco (Paul) ...</td>\n",
       "    </tr>\n",
       "  </tbody>\n",
       "</table>\n",
       "</div>"
      ],
      "text/plain": [
       "                                                Category  \\\n",
       "Value                                                      \n",
       "$1000  HISTORY ESPN's TOP 10 ALL-TIME ATHLETES THE CO...   \n",
       "$200   HISTORY ESPN's TOP 10 ALL-TIME ATHLETES EVERYB...   \n",
       "$400   HISTORY ESPN's TOP 10 ALL-TIME ATHLETES EVERYB...   \n",
       "$600   HISTORY ESPN's TOP 10 ALL-TIME ATHLETES EVERYB...   \n",
       "$800   HISTORY ESPN's TOP 10 ALL-TIME ATHLETES EVERYB...   \n",
       "\n",
       "                                                Question  \\\n",
       "Value                                                      \n",
       "$1000  This Asian political party was founded in 1885...   \n",
       "$200   For the last 8 years of his life, Galileo was ...   \n",
       "$400   Built in 312 B.C. to link Rome & the South of ...   \n",
       "$600   In 1000 Rajaraja I of the Cholas battled to ta...   \n",
       "$800   Karl led the first of these Marxist organizati...   \n",
       "\n",
       "                                                  Answer  \n",
       "Value                                                     \n",
       "$1000  the Congress Party (Wilt) Chamberlain K2 Ethan...  \n",
       "$200   Copernicus Jim Thorpe Arizona McDonald's John ...  \n",
       "$400   the Appian Way Michael Jordan Washington Crate...  \n",
       "$600   Ceylon (or Sri Lanka) Jim Brown the UV index B...  \n",
       "$800   the International (Lou) Gehrig Morocco (Paul) ...  "
      ]
     },
     "execution_count": 106,
     "metadata": {},
     "output_type": "execute_result"
    }
   ],
   "source": [
    "j_data_val.head()"
   ]
  },
  {
   "cell_type": "code",
   "execution_count": 107,
   "id": "occupational-growing",
   "metadata": {},
   "outputs": [],
   "source": [
    "j_data_val['Document'] = j_data_val.Category + ' ' + j_data_val.Question + ' ' + j_data_val.Answer"
   ]
  },
  {
   "cell_type": "code",
   "execution_count": 108,
   "id": "norwegian-diabetes",
   "metadata": {},
   "outputs": [],
   "source": [
    "def normalize_text(cell):\n",
    "    # Remove punctuation:\n",
    "    cell = cell.lower()\n",
    "    cell = cell.translate(str.maketrans('', '', string.punctuation))\n",
    "    wordnet_lemmatizer = WordNetLemmatizer()\n",
    "    token_list = word_tokenize(cell)\n",
    "    \n",
    "    return ' '.join([wordnet_lemmatizer.lemmatize(w) for w in token_list if w not in stopwords.words('english')])"
   ]
  },
  {
   "cell_type": "code",
   "execution_count": 109,
   "id": "fatal-hormone",
   "metadata": {},
   "outputs": [],
   "source": [
    "j_data_val['Norm_Doc'] = j_data_val['Document'].apply(lambda x: normalize_text(x))"
   ]
  },
  {
   "cell_type": "code",
   "execution_count": 110,
   "id": "preceding-woman",
   "metadata": {
    "scrolled": true
   },
   "outputs": [
    {
     "data": {
      "text/plain": [
       "(5, 5)"
      ]
     },
     "execution_count": 110,
     "metadata": {},
     "output_type": "execute_result"
    }
   ],
   "source": [
    "j_data_val.shape"
   ]
  },
  {
   "cell_type": "code",
   "execution_count": 111,
   "id": "comfortable-apple",
   "metadata": {},
   "outputs": [],
   "source": [
    "corpus = [text.lower() for text in j_data_val['Norm_Doc'].values]"
   ]
  },
  {
   "cell_type": "code",
   "execution_count": 112,
   "id": "leading-tactics",
   "metadata": {},
   "outputs": [],
   "source": [
    "vectorizer = TfidfVectorizer(stop_words={'english'}, max_df=0.8)\n",
    "X = vectorizer.fit_transform(corpus)"
   ]
  },
  {
   "cell_type": "code",
   "execution_count": 113,
   "id": "cardiovascular-rochester",
   "metadata": {},
   "outputs": [],
   "source": [
    "Vocab = {index:word for index, word in enumerate(vectorizer.get_feature_names())}"
   ]
  },
  {
   "cell_type": "code",
   "execution_count": 114,
   "id": "applied-tuition",
   "metadata": {},
   "outputs": [],
   "source": [
    "NUM_TOPICS = 15"
   ]
  },
  {
   "cell_type": "code",
   "execution_count": 115,
   "id": "banner-chamber",
   "metadata": {},
   "outputs": [],
   "source": [
    "lda = LatentDirichletAllocation(n_components=NUM_TOPICS, learning_method='online')"
   ]
  },
  {
   "cell_type": "code",
   "execution_count": 116,
   "id": "flush-soundtrack",
   "metadata": {},
   "outputs": [
    {
     "name": "stderr",
     "output_type": "stream",
     "text": [
      "/Users/kylebrooks/opt/anaconda3/lib/python3.8/site-packages/sklearn/decomposition/_lda.py:806: RuntimeWarning: overflow encountered in exp\n",
      "  return np.exp(-1.0 * perword_bound)\n"
     ]
    },
    {
     "data": {
      "text/plain": [
       "LatentDirichletAllocation(learning_method='online', n_components=15)"
      ]
     },
     "execution_count": 116,
     "metadata": {},
     "output_type": "execute_result"
    }
   ],
   "source": [
    "lda.fit(X)"
   ]
  },
  {
   "cell_type": "code",
   "execution_count": 117,
   "id": "supported-increase",
   "metadata": {},
   "outputs": [],
   "source": [
    "word_topic = lda.components_"
   ]
  },
  {
   "cell_type": "code",
   "execution_count": 118,
   "id": "going-preserve",
   "metadata": {},
   "outputs": [
    {
     "data": {
      "text/plain": [
       "(5, 15)"
      ]
     },
     "execution_count": 118,
     "metadata": {},
     "output_type": "execute_result"
    }
   ],
   "source": [
    "lda.transform(X).shape"
   ]
  },
  {
   "cell_type": "code",
   "execution_count": 119,
   "id": "subject-monitor",
   "metadata": {},
   "outputs": [],
   "source": [
    "from collections import defaultdict\n",
    "topics = defaultdict(list)\n",
    "for t in range(NUM_TOPICS):\n",
    "    # val > 0.5 -> it's part of the topic\n",
    "    for index, val in enumerate(word_topic[t].argsort()[-15:-1]):#[0,:]):\n",
    "        topics[t].append(Vocab[val])"
   ]
  },
  {
   "cell_type": "code",
   "execution_count": 120,
   "id": "moral-chile",
   "metadata": {},
   "outputs": [
    {
     "data": {
      "text/plain": [
       "defaultdict(list,\n",
       "            {0: ['hrefhttpwwwjarchivecommedia20060327j13mp3he',\n",
       "              'tatooine',\n",
       "              'talus',\n",
       "              'dewhurst',\n",
       "              'spacetime',\n",
       "              'baomer',\n",
       "              'ratted',\n",
       "              'elburz',\n",
       "              'hrefhttpwwwjarchivecommedia20050520j28ajpg',\n",
       "              'bunraku',\n",
       "              'antidefamation',\n",
       "              'tidepools',\n",
       "              'hrefhttpwwwjarchivecommedia20090715j06jpg',\n",
       "              'hrefhttpwwwjarchivecommedia20041221j15jpg'],\n",
       "             1: ['hrefhttpwwwjarchivecommedia20100126j28jpg',\n",
       "              'hrefhttpwwwjarchivecommedia20070530j17jpg',\n",
       "              'bowieknifed',\n",
       "              'wina',\n",
       "              'nicholsons',\n",
       "              'gamey',\n",
       "              'opal',\n",
       "              'manuel',\n",
       "              'jello',\n",
       "              '1847s',\n",
       "              'tenerife',\n",
       "              'armentieres',\n",
       "              'robelike',\n",
       "              'pregreening'],\n",
       "             2: ['1169',\n",
       "              'unglazed',\n",
       "              'declension',\n",
       "              'delved',\n",
       "              'piedmontese',\n",
       "              'oporto',\n",
       "              'wombmate',\n",
       "              'klesko',\n",
       "              '3flavored',\n",
       "              'nicolaier',\n",
       "              'hrefhttpwwwjarchivecommedia20071011j12jpg',\n",
       "              'crumm',\n",
       "              'thrilling',\n",
       "              'cruciform'],\n",
       "             3: ['casing',\n",
       "              'fullscale',\n",
       "              'hrefhttpwwwjarchivecommedia20071031j02jpg',\n",
       "              'hrefhttpwwwjarchivecommedia20070918j11jpg',\n",
       "              'mousekewitz',\n",
       "              'regulatory',\n",
       "              'ferrari',\n",
       "              'rookwood',\n",
       "              '625foothigh',\n",
       "              'thud',\n",
       "              'maestro',\n",
       "              'swoosh',\n",
       "              'whisper',\n",
       "              'africancubanirishaustralianamerican'],\n",
       "             4: ['halfdozen',\n",
       "              'nasty',\n",
       "              'monkeysa',\n",
       "              'ordain',\n",
       "              'flogged',\n",
       "              'sics',\n",
       "              'targetblanktemplesa',\n",
       "              'calcite',\n",
       "              'hrefhttpwwwjarchivecommedia20080204j28jpg',\n",
       "              'adriaen',\n",
       "              'alluring',\n",
       "              'targetblankhighlightsathis',\n",
       "              'hindered',\n",
       "              'ordinally'],\n",
       "             5: ['elbowshaped',\n",
       "              'skyward',\n",
       "              'hrefhttpwwwjarchivecommedia20060615j12jpg',\n",
       "              'beatrice',\n",
       "              'hyperbole',\n",
       "              'rimini',\n",
       "              'hrefhttpwwwjarchivecommedia20110525j27jpg',\n",
       "              'hagia',\n",
       "              'overdrawn',\n",
       "              'revamped',\n",
       "              'bovary',\n",
       "              'nasalis',\n",
       "              'karas',\n",
       "              'vadis'],\n",
       "             6: ['debussey',\n",
       "              'drainage',\n",
       "              'sensual',\n",
       "              'hrefhttpwwwjarchivecommedia20081001j19jpg',\n",
       "              'velveteen',\n",
       "              'harryi',\n",
       "              'silenced',\n",
       "              'impart',\n",
       "              'doctorin',\n",
       "              'defer',\n",
       "              'seismic',\n",
       "              'aalmond',\n",
       "              '58102',\n",
       "              'weeb'],\n",
       "             7: ['timing',\n",
       "              'climax',\n",
       "              'ldl',\n",
       "              'imissourii',\n",
       "              'staid',\n",
       "              'wau',\n",
       "              'matthewa',\n",
       "              'supervisor',\n",
       "              'hopelessly',\n",
       "              'acla',\n",
       "              'warmerdam',\n",
       "              'targetblankangloegyptian',\n",
       "              'hrefhttpwwwjarchivecommedia20060517j14jpg',\n",
       "              'bacteriaeating'],\n",
       "             8: ['abruptly',\n",
       "              'fullblooded',\n",
       "              'desperation',\n",
       "              'borge',\n",
       "              'thiscentric',\n",
       "              'satrapis',\n",
       "              'uge',\n",
       "              'equalized',\n",
       "              'morrowa',\n",
       "              'hrefhttpwwwjarchivecommedia20041227j06bjpg',\n",
       "              'olmos',\n",
       "              'hoorn',\n",
       "              'svenska',\n",
       "              'triatomic'],\n",
       "             9: ['iconstitutionia',\n",
       "              'livia',\n",
       "              'brigadier',\n",
       "              'jadis',\n",
       "              'adolphus',\n",
       "              'protozoa',\n",
       "              'hrefhttpwwwjarchivecommedia20081008j25mp3herea',\n",
       "              'idris',\n",
       "              'hrefhttpwwwjarchivecommedia20051128j07jpg',\n",
       "              'canaanite',\n",
       "              'snellen',\n",
       "              'baloo',\n",
       "              'alcan',\n",
       "              'traced'],\n",
       "             10: ['infested',\n",
       "              'augustiner',\n",
       "              'cadmium',\n",
       "              'bunnyshe',\n",
       "              'trimming',\n",
       "              'odense',\n",
       "              'mimeograph',\n",
       "              'vanadium',\n",
       "              'indeterminate',\n",
       "              'wiz',\n",
       "              'greatness',\n",
       "              '8000copy',\n",
       "              'lightwelterwight',\n",
       "              'iacta'],\n",
       "             11: ['domainprocuring',\n",
       "              'bribery',\n",
       "              'systematically',\n",
       "              'retransmitted',\n",
       "              'surpassed',\n",
       "              'voting',\n",
       "              'pentameter',\n",
       "              'flattened',\n",
       "              'manno',\n",
       "              'corettas',\n",
       "              'eyelet',\n",
       "              'putty',\n",
       "              'setter',\n",
       "              '2011due'],\n",
       "             12: ['swapped',\n",
       "              'byssus',\n",
       "              'housetrained',\n",
       "              'subcutaneous',\n",
       "              'vu',\n",
       "              '161st',\n",
       "              'adnephew',\n",
       "              'guthrie',\n",
       "              'daly',\n",
       "              'seinfeldhating',\n",
       "              'moaned',\n",
       "              'cuneiform',\n",
       "              'nostril',\n",
       "              'familiarly'],\n",
       "             13: ['ascap',\n",
       "              '1778',\n",
       "              'hrefhttpwwwjarchivecommedia20070416j07jpg',\n",
       "              'bushido',\n",
       "              'hrefhttpwwwjarchivecommedia20060612j15jpg',\n",
       "              'ralls',\n",
       "              'lighterthan',\n",
       "              'amoung',\n",
       "              'netscape',\n",
       "              '4840',\n",
       "              'targetblankepitapha',\n",
       "              'breaded',\n",
       "              'showia',\n",
       "              'hrefhttpwwwjarchivecommedia20070116j07jpg'],\n",
       "             14: ['yaleharvard',\n",
       "              'gratification',\n",
       "              'isengard',\n",
       "              'resupply',\n",
       "              'merciful',\n",
       "              'gluteus',\n",
       "              'banke',\n",
       "              'revised',\n",
       "              'cunningham',\n",
       "              '84000',\n",
       "              'chamois',\n",
       "              '73',\n",
       "              'interpreter',\n",
       "              'nonprescription']})"
      ]
     },
     "execution_count": 120,
     "metadata": {},
     "output_type": "execute_result"
    }
   ],
   "source": [
    "topics"
   ]
  },
  {
   "cell_type": "markdown",
   "id": "built-peninsula",
   "metadata": {},
   "source": [
    "## Double Jeopardy questions grouped by question value"
   ]
  },
  {
   "cell_type": "code",
   "execution_count": 122,
   "id": "dominant-reality",
   "metadata": {},
   "outputs": [
    {
     "data": {
      "text/plain": [
       "array(['$400', '$800', '$1200', '$2,000', '$1600', '$2000', '$3,200',\n",
       "       '$5,000', '$200', '$600', '$1,000', '$1000', '$1,500', '$4,800',\n",
       "       '$1,800', '$1,100', '$3,400', '$3,000', '$4,000', '$6,800',\n",
       "       '$1,600', '$500', '$1,200', '$1,900', '$3,100', '$700', '$2,800',\n",
       "       '$8,000', '$6,000', '$2,400', '$12,000', '$3,800', '$2,500',\n",
       "       '$6,200', '$10,000', '$7,000', '$1,400', '$1,492', '$300',\n",
       "       '$7,400', '$7,200', '$2,200', '$2,600', '$3,300', '$5,400',\n",
       "       '$4,500', '$2,100', '$2,127', '$367', '$4,400', '$3,500', '$1,300',\n",
       "       '$3,600', '$2,900', '$100', '$3,900', '$4,100', '$4,600',\n",
       "       '$10,800', '$2,300', '$5,600', '$1,111', '$8,200', '$5,800',\n",
       "       '$750', '$7,500', '$1,700', '$9,000', '$6,100', '$900', '$1,020',\n",
       "       '$4,700', '$2,021', '$5,200', '$4,200', '$2,001', '$4,637',\n",
       "       '$3,201', '$3,700', '$2,990', '$5,500', '$14,000', '$6,400',\n",
       "       '$8,600', '$5', '$6,300', '$6,600', '$8,917', '$9,500', '$1,246',\n",
       "       '$6,435', '$1,263', '$8,800', '$2,222', '$2,700', '$2,746',\n",
       "       '$10,400', '$7,600', '$6,700', '$5,100', '$13,200', '$4,300',\n",
       "       '$1,407', '$12,400', '$5,401', '$7,800', '$1,183', '$1,203',\n",
       "       '$13,000', '$11,600', '$14,200', '$1,809', '$8,400', '$8,700',\n",
       "       '$11,000', '$5,201', '$1,801', '$3,499', '$5,700', '$601',\n",
       "       '$4,008', '$50', '$2,344', '$2,811', '$18,000', '$1,777', '$3,599',\n",
       "       '$9,800', '$3,150', '$20', '$1,810', '$22', '$9,200', '$1,512',\n",
       "       '$8,500', '$585', '$1,534', '$13,800', '$5,001', '$4,238',\n",
       "       '$16,400', '$1,347', '$2547', '$11,200', '$250'], dtype=object)"
      ]
     },
     "execution_count": 122,
     "metadata": {},
     "output_type": "execute_result"
    }
   ],
   "source": [
    "dj_data.Value.unique()"
   ]
  },
  {
   "cell_type": "code",
   "execution_count": 123,
   "id": "continental-darwin",
   "metadata": {},
   "outputs": [],
   "source": [
    "dj_values = ['$400', '$800', '$1200', '$1500', '$2000']"
   ]
  },
  {
   "cell_type": "code",
   "execution_count": 125,
   "id": "minimal-cedar",
   "metadata": {},
   "outputs": [],
   "source": [
    "dj_data = dj_data[dj_data['Value'].isin(dj_values)]"
   ]
  },
  {
   "cell_type": "code",
   "execution_count": 132,
   "id": "finite-nerve",
   "metadata": {},
   "outputs": [],
   "source": [
    "dj_data_val = dj_data.groupby(by=['Value']).agg({'Category': lambda x: ' '.join(x),\n",
    "                                               'Question': lambda x: ' '.join(x),\n",
    "                                               'Answer': lambda x: ' '.join(x)})"
   ]
  },
  {
   "cell_type": "code",
   "execution_count": 133,
   "id": "literary-bernard",
   "metadata": {},
   "outputs": [],
   "source": [
    "dj_data_val['Document'] = dj_data_val.Category + ' ' + dj_data_val.Question + ' ' + dj_data_val.Answer"
   ]
  },
  {
   "cell_type": "code",
   "execution_count": 134,
   "id": "leading-original",
   "metadata": {},
   "outputs": [],
   "source": [
    "dj_data_val['Norm_Doc'] = dj_data_val['Document'].apply(lambda x: normalize_text(x))"
   ]
  },
  {
   "cell_type": "code",
   "execution_count": 136,
   "id": "impressed-advantage",
   "metadata": {},
   "outputs": [],
   "source": [
    "corpus = [text.lower() for text in dj_data_val['Norm_Doc'].values]"
   ]
  },
  {
   "cell_type": "code",
   "execution_count": 137,
   "id": "confidential-afternoon",
   "metadata": {},
   "outputs": [],
   "source": [
    "vectorizer = TfidfVectorizer(stop_words={'english'}, max_df=0.8)\n",
    "X = vectorizer.fit_transform(corpus)\n",
    "\n",
    "Vocab = {index:word for index, word in enumerate(vectorizer.get_feature_names())}"
   ]
  },
  {
   "cell_type": "code",
   "execution_count": 138,
   "id": "tender-indianapolis",
   "metadata": {},
   "outputs": [],
   "source": [
    "NUM_TOPICS = 15\n",
    "lda = LatentDirichletAllocation(n_components=NUM_TOPICS, learning_method='online')"
   ]
  },
  {
   "cell_type": "code",
   "execution_count": 140,
   "id": "worth-rescue",
   "metadata": {},
   "outputs": [],
   "source": [
    "lda.fit(X)\n",
    "word_topic = lda.components_"
   ]
  },
  {
   "cell_type": "code",
   "execution_count": null,
   "id": "suffering-clark",
   "metadata": {},
   "outputs": [],
   "source": []
  }
 ],
 "metadata": {
  "kernelspec": {
   "display_name": "Python 3",
   "language": "python",
   "name": "python3"
  },
  "language_info": {
   "codemirror_mode": {
    "name": "ipython",
    "version": 3
   },
   "file_extension": ".py",
   "mimetype": "text/x-python",
   "name": "python",
   "nbconvert_exporter": "python",
   "pygments_lexer": "ipython3",
   "version": "3.8.3"
  }
 },
 "nbformat": 4,
 "nbformat_minor": 5
}

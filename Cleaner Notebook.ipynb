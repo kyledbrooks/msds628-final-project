{
 "cells": [
  {
   "cell_type": "markdown",
   "id": "standing-moisture",
   "metadata": {},
   "source": [
    "# Steps\n",
    "1. Load data\n",
    "2. Preprocess\n",
    "3. TFIDF\n",
    "\n",
    "\n",
    "_______\n",
    "## 1. Imports/ Load Data"
   ]
  },
  {
   "cell_type": "code",
   "execution_count": 4,
   "id": "breeding-wound",
   "metadata": {
    "ExecuteTime": {
     "end_time": "2021-05-14T21:40:54.576029Z",
     "start_time": "2021-05-14T21:40:54.573729Z"
    }
   },
   "outputs": [],
   "source": [
    "import pandas as pd\n",
    "import numpy as np\n",
    "import matplotlib.pyplot"
   ]
  },
  {
   "cell_type": "code",
   "execution_count": 5,
   "id": "aggregate-beatles",
   "metadata": {
    "ExecuteTime": {
     "end_time": "2021-05-14T21:40:55.488335Z",
     "start_time": "2021-05-14T21:40:54.965036Z"
    }
   },
   "outputs": [],
   "source": [
    "df = pd.read_csv('data/JEOPARDY_CSV.csv', date_parser=[' Air Date'])"
   ]
  },
  {
   "cell_type": "code",
   "execution_count": 8,
   "id": "attempted-bradford",
   "metadata": {
    "ExecuteTime": {
     "end_time": "2021-05-14T21:41:19.913581Z",
     "start_time": "2021-05-14T21:41:19.897849Z"
    }
   },
   "outputs": [],
   "source": [
    "new_cols = {s:s.strip() for s in df.columns}\n",
    "df = df.rename(columns=new_cols)"
   ]
  },
  {
   "cell_type": "code",
   "execution_count": 9,
   "id": "great-morris",
   "metadata": {
    "ExecuteTime": {
     "end_time": "2021-05-14T21:41:20.272533Z",
     "start_time": "2021-05-14T21:41:20.269706Z"
    }
   },
   "outputs": [],
   "source": [
    "def has_link(cell):\n",
    "    if '<a' in cell and 'a>' in cell:\n",
    "        return True\n",
    "        #link_text = cell[cell.index('<a'):cell.index('a>') + 2]\n",
    "       # return cell.replace(link_text, '')\n",
    "    else:\n",
    "        return False\n",
    "        "
   ]
  },
  {
   "cell_type": "code",
   "execution_count": 10,
   "id": "periodic-demand",
   "metadata": {
    "ExecuteTime": {
     "end_time": "2021-05-14T21:41:20.610145Z",
     "start_time": "2021-05-14T21:41:20.524928Z"
    }
   },
   "outputs": [],
   "source": [
    "df['Has Link'] = df['Question'].apply(lambda x: has_link(x))"
   ]
  },
  {
   "cell_type": "code",
   "execution_count": 11,
   "id": "educational-circular",
   "metadata": {
    "ExecuteTime": {
     "end_time": "2021-05-14T21:41:36.730110Z",
     "start_time": "2021-05-14T21:41:36.632848Z"
    }
   },
   "outputs": [
    {
     "data": {
      "text/plain": [
       "((216930, 8), (216928, 8))"
      ]
     },
     "execution_count": 11,
     "metadata": {},
     "output_type": "execute_result"
    }
   ],
   "source": [
    "# For things without answers, we can drop\n",
    "reduced_df = df.dropna()\n",
    "df.shape, reduced_df.shape"
   ]
  },
  {
   "cell_type": "code",
   "execution_count": 12,
   "id": "temporal-speaking",
   "metadata": {
    "ExecuteTime": {
     "end_time": "2021-05-14T21:41:48.915772Z",
     "start_time": "2021-05-14T21:41:48.841182Z"
    }
   },
   "outputs": [
    {
     "name": "stderr",
     "output_type": "stream",
     "text": [
      "<ipython-input-12-47cda06411ea>:1: SettingWithCopyWarning: \n",
      "A value is trying to be set on a copy of a slice from a DataFrame.\n",
      "Try using .loc[row_indexer,col_indexer] = value instead\n",
      "\n",
      "See the caveats in the documentation: https://pandas.pydata.org/pandas-docs/stable/user_guide/indexing.html#returning-a-view-versus-a-copy\n",
      "  reduced_df['Year'] = reduced_df['Air Date'].apply(lambda x: x.split('-')[0])\n"
     ]
    }
   ],
   "source": [
    "reduced_df['Year'] = reduced_df['Air Date'].apply(lambda x: x.split('-')[0])"
   ]
  },
  {
   "cell_type": "code",
   "execution_count": 14,
   "id": "magnetic-sentence",
   "metadata": {
    "ExecuteTime": {
     "end_time": "2021-05-14T21:43:24.330313Z",
     "start_time": "2021-05-14T21:43:24.138762Z"
    }
   },
   "outputs": [
    {
     "name": "stderr",
     "output_type": "stream",
     "text": [
      "<ipython-input-14-e4766086616b>:1: SettingWithCopyWarning: \n",
      "A value is trying to be set on a copy of a slice from a DataFrame.\n",
      "Try using .loc[row_indexer,col_indexer] = value instead\n",
      "\n",
      "See the caveats in the documentation: https://pandas.pydata.org/pandas-docs/stable/user_guide/indexing.html#returning-a-view-versus-a-copy\n",
      "  reduced_df['Text'] = reduced_df['Question'] + ' ' + reduced_df['Answer']\n"
     ]
    }
   ],
   "source": [
    "reduced_df['Text'] = reduced_df['Question'] + ' ' + reduced_df['Answer']\n",
    "\n",
    "jeopardy_df = reduced_df[reduced_df['Round'] == 'Jeopardy!']\n"
   ]
  },
  {
   "cell_type": "markdown",
   "id": "verified-storage",
   "metadata": {},
   "source": [
    "________\n",
    "## 2. Preprocess"
   ]
  },
  {
   "cell_type": "code",
   "execution_count": 22,
   "id": "sporting-construction",
   "metadata": {
    "ExecuteTime": {
     "end_time": "2021-05-14T21:57:48.324090Z",
     "start_time": "2021-05-14T21:57:48.320954Z"
    }
   },
   "outputs": [],
   "source": [
    "import spacy\n",
    "import string\n",
    "from nltk.corpus import stopwords\n",
    "from sklearn.feature_extraction.text import ENGLISH_STOP_WORDS\n",
    "\n",
    "from nltk.tokenize import word_tokenize\n",
    "from nltk.stem import WordNetLemmatizer\n"
   ]
  },
  {
   "cell_type": "code",
   "execution_count": 23,
   "id": "forced-figure",
   "metadata": {
    "ExecuteTime": {
     "end_time": "2021-05-14T21:57:49.468509Z",
     "start_time": "2021-05-14T21:57:48.798554Z"
    }
   },
   "outputs": [],
   "source": [
    "nlp = spacy.load(\"en\")\n",
    "\n",
    "def get_noun_chunks(cell):\n",
    "    doc = nlp(cell)\n",
    "    \n",
    "    res = []\n",
    "    for noun in doc.noun_chunks: # use np instead of np.text\n",
    "        res.append(str(noun))\n",
    "    \n",
    "    return ' '.join(res)\n",
    "    \n",
    "def normalize_text(cell):\n",
    "    # Remove punctuation:\n",
    "    cell = cell.lower()\n",
    "    cell = cell.translate(str.maketrans('', '', string.punctuation))\n",
    "    wordnet_lemmatizer = WordNetLemmatizer()\n",
    "    token_list = word_tokenize(cell)\n",
    "    \n",
    "    return ' '.join([wordnet_lemmatizer.lemmatize(w) for w in token_list if w not in stopwords.words('english')])\n",
    "    \n",
    "        "
   ]
  },
  {
   "cell_type": "code",
   "execution_count": 24,
   "id": "mathematical-reference",
   "metadata": {
    "ExecuteTime": {
     "end_time": "2021-05-14T22:08:34.643506Z",
     "start_time": "2021-05-14T21:57:49.470276Z"
    }
   },
   "outputs": [
    {
     "name": "stderr",
     "output_type": "stream",
     "text": [
      "<ipython-input-24-c044a386913a>:1: SettingWithCopyWarning: \n",
      "A value is trying to be set on a copy of a slice from a DataFrame.\n",
      "Try using .loc[row_indexer,col_indexer] = value instead\n",
      "\n",
      "See the caveats in the documentation: https://pandas.pydata.org/pandas-docs/stable/user_guide/indexing.html#returning-a-view-versus-a-copy\n",
      "  jeopardy_df['Text Nouns'] = jeopardy_df['Text'].apply(lambda x: get_noun_chunks(x))\n"
     ]
    }
   ],
   "source": [
    "jeopardy_df['Text Nouns'] = jeopardy_df['Text'].apply(lambda x: get_noun_chunks(x))"
   ]
  },
  {
   "cell_type": "code",
   "execution_count": 25,
   "id": "hungry-sensitivity",
   "metadata": {
    "ExecuteTime": {
     "end_time": "2021-05-14T22:10:41.753128Z",
     "start_time": "2021-05-14T22:08:34.645989Z"
    }
   },
   "outputs": [
    {
     "name": "stderr",
     "output_type": "stream",
     "text": [
      "<ipython-input-25-967b1d30b092>:1: SettingWithCopyWarning: \n",
      "A value is trying to be set on a copy of a slice from a DataFrame.\n",
      "Try using .loc[row_indexer,col_indexer] = value instead\n",
      "\n",
      "See the caveats in the documentation: https://pandas.pydata.org/pandas-docs/stable/user_guide/indexing.html#returning-a-view-versus-a-copy\n",
      "  jeopardy_df['Norm Text Nouns'] = jeopardy_df['Text Nouns'].apply(lambda x: normalize_text(x))\n"
     ]
    }
   ],
   "source": [
    "jeopardy_df['Norm Text Nouns'] = jeopardy_df['Text Nouns'].apply(lambda x: normalize_text(x))"
   ]
  },
  {
   "cell_type": "markdown",
   "id": "cellular-humanity",
   "metadata": {},
   "source": [
    "_______\n",
    "## Find which k to choose with Coherence scores"
   ]
  },
  {
   "cell_type": "code",
   "execution_count": 48,
   "id": "prescribed-ferry",
   "metadata": {
    "ExecuteTime": {
     "end_time": "2021-05-14T22:26:01.257013Z",
     "start_time": "2021-05-14T22:26:01.254332Z"
    }
   },
   "outputs": [],
   "source": [
    "from gensim.test.utils import common_texts\n",
    "from gensim.corpora.dictionary import Dictionary\n",
    "from gensim.models.coherencemodel import CoherenceModel\n",
    "from gensim.models import LdaModel"
   ]
  },
  {
   "cell_type": "code",
   "execution_count": 37,
   "id": "finnish-municipality",
   "metadata": {
    "ExecuteTime": {
     "end_time": "2021-05-14T22:20:13.480134Z",
     "start_time": "2021-05-14T22:20:13.477765Z"
    }
   },
   "outputs": [],
   "source": [
    "common_texts = [i.split() for i in jeopardy_df['Norm Text Nouns']]\n",
    "common_dictionary = Dictionary(common_texts)\n",
    "common_corpus = [common_dictionary.doc2bow(text) for text in common_texts]"
   ]
  },
  {
   "cell_type": "code",
   "execution_count": null,
   "id": "speaking-cargo",
   "metadata": {
    "ExecuteTime": {
     "start_time": "2021-05-14T22:35:15.400Z"
    }
   },
   "outputs": [],
   "source": [
    "k_info = {}\n",
    "for k in range(1,20,4):\n",
    "    lda = LdaModel(common_corpus, num_topics=k)\n",
    "    cm = CoherenceModel(model=lda, corpus=common_corpus, dictionary=common_dictionary, coherence='u_mass')\n",
    "    k_info[k] = cm.get_coherence()"
   ]
  },
  {
   "cell_type": "code",
   "execution_count": 52,
   "id": "ambient-timing",
   "metadata": {
    "ExecuteTime": {
     "end_time": "2021-05-14T22:34:33.710149Z",
     "start_time": "2021-05-14T22:34:33.707895Z"
    }
   },
   "outputs": [],
   "source": [
    "import matplotlib.pyplot as plt"
   ]
  },
  {
   "cell_type": "code",
   "execution_count": 55,
   "id": "double-matrix",
   "metadata": {
    "ExecuteTime": {
     "end_time": "2021-05-14T22:34:48.885381Z",
     "start_time": "2021-05-14T22:34:48.690057Z"
    }
   },
   "outputs": [
    {
     "data": {
      "text/plain": [
       "<matplotlib.collections.PathCollection at 0x7fb9e7baf490>"
      ]
     },
     "execution_count": 55,
     "metadata": {},
     "output_type": "execute_result"
    },
    {
     "data": {
      "image/png": "[encoded data removed]",
      "text/plain": [
       "<Figure size 432x288 with 1 Axes>"
      ]
     },
     "metadata": {
      "needs_background": "light"
     },
     "output_type": "display_data"
    }
   ],
   "source": [
    "plt.scatter(list(k_info.keys()), list(k_info.values()))"
   ]
  },
  {
   "cell_type": "code",
   "execution_count": null,
   "id": "metric-parallel",
   "metadata": {
    "ExecuteTime": {
     "end_time": "2021-05-14T21:55:54.149508Z",
     "start_time": "2021-05-14T21:45:21.891Z"
    }
   },
   "outputs": [],
   "source": [
    "from sklearn.feature_extraction.text import TfidfVectorizer\n",
    "from sklearn.decomposition import LatentDirichletAllocation as LDA"
   ]
  },
  {
   "cell_type": "code",
   "execution_count": null,
   "id": "renewable-cloud",
   "metadata": {
    "ExecuteTime": {
     "end_time": "2021-05-14T21:55:54.151095Z",
     "start_time": "2021-05-14T21:45:59.537Z"
    }
   },
   "outputs": [],
   "source": [
    "def is_integer(cell):\n",
    "    if int(cell) == float(cell):\n",
    "        return True\n",
    "    else:\n",
    "        return False\n",
    "    \n",
    "def find_largest_divisor(num):\n",
    "    res = []\n",
    "    for i in range(1, num):\n",
    "        if is_integer(num/i):\n",
    "            res.append(i)\n",
    "    return res[len(res)//2], num//res[len(res)//2]\n",
    "\n",
    "# for topic_idx, topic in enumerate(lda.components_):\n",
    "def get_top_15(topic_idx, topic, components):\n",
    "    top_features = []\n",
    "    for t in topic.argsort()[-15:]:\n",
    "        if components[topic_idx, t] < 0.5:\n",
    "            break\n",
    "        else:\n",
    "            top_features.append(t)\n",
    "    return reversed(top_features)\n"
   ]
  },
  {
   "cell_type": "code",
   "execution_count": null,
   "id": "confused-rough",
   "metadata": {
    "ExecuteTime": {
     "end_time": "2021-05-14T21:55:54.152288Z",
     "start_time": "2021-05-14T21:45:59.797Z"
    }
   },
   "outputs": [],
   "source": [
    "def plot_top_words(num_topics, X, feature_names, n_top_words, title):\n",
    "    res = []\n",
    "    lda = LDA(n_components=num_topics, learning_method='online')\n",
    "    model = lda.fit(X)\n",
    "    doc_topic_prob = model.transform(X)\n",
    "    doc_prob = defaultdict(int)\n",
    "    for row in doc_topic_prob:\n",
    "        doc_prob[np.argmax(row)] += 1\n",
    "    total = len(doc_topic_prob)\n",
    "    row, col = find_largest_divisor(num_topics)\n",
    "    fig, axes = plt.subplots(row, col, figsize=(30, 15), sharex=True)\n",
    "    axes = axes.flatten()\n",
    "    for topic_idx, topic in enumerate(model.components_):\n",
    "        top_features_ind = list(get_top_15(topic_idx, topic, model.components_))#topic.argsort()[:-n_top_words - 1:-1]\n",
    "        top_features = [feature_names[i] for i in top_features_ind]\n",
    "        weights = topic[top_features_ind]\n",
    "\n",
    "        ax = axes[topic_idx]\n",
    "        ax.barh(top_features, weights, height=0.7)\n",
    "        prob = 100 * doc_prob[topic_idx]/total\n",
    "        res.append(prob)\n",
    "        ax.set_title(f'Topic {topic_idx +1} | {prob:.2f}%',\n",
    "                     fontdict={'fontsize': 30})\n",
    "        ax.invert_yaxis()\n",
    "        ax.tick_params(axis='both', which='major', labelsize=20)\n",
    "        for i in 'top right left'.split():\n",
    "            ax.spines[i].set_visible(False)\n",
    "        fig.suptitle(title, fontsize=40)\n",
    "\n",
    "    plt.subplots_adjust(top=0.90, bottom=0.05, wspace=0.90, hspace=0.3)\n",
    "    plt.show()\n",
    "    return res"
   ]
  },
  {
   "cell_type": "markdown",
   "id": "postal-breeding",
   "metadata": {},
   "source": [
    "_____\n",
    "## 4. Script"
   ]
  },
  {
   "cell_type": "code",
   "execution_count": null,
   "id": "conventional-prince",
   "metadata": {},
   "outputs": [],
   "source": [
    "# Choosing topics with Coherence score "
   ]
  },
  {
   "cell_type": "code",
   "execution_count": null,
   "id": "sapphire-productivity",
   "metadata": {},
   "outputs": [],
   "source": [
    "from collections import defaultdict"
   ]
  },
  {
   "cell_type": "code",
   "execution_count": null,
   "id": "ruled-emission",
   "metadata": {},
   "outputs": [],
   "source": [
    "topics = defaultdict(list)\n",
    "distribution = defaultdict(list)\n",
    "for year in np.unique(jeopardy_df.Year):\n",
    "    # 1. Get corpus\n",
    "    corpus = jeopardy_df[jeopardy_df['Year'] == year]['Norm Text Nouns'].values\n",
    "    # 2. TFIDF and Vocab\n",
    "    vectorizer = TfidfVectorizer(stop_words={'english'}, ngram_range=(1,5), max_features=5000, max_df=0.7)\n",
    "    X = vectorizer.fit_transform(corpus)\n",
    "    Vocab = {index:word for index, word in enumerate(vectorizer.get_feature_names())}\n",
    "    # 3. LDA model\n",
    "    odds = plot_top_words(8, X, Vocab, 15, f\"LDA on Year: {year}\")\n",
    "    # 4. append odds\n",
    "    distribution[year] = odds\n",
    "    # 4. Get user input for each topic:\n",
    "    for i in range(8):\n",
    "        topic = input(f\"What topic is topic {i+1}?\")\n",
    "        topics[year].append(topic)"
   ]
  }
 ],
 "metadata": {
  "kernelspec": {
   "display_name": "Python 3",
   "language": "python",
   "name": "python3"
  },
  "language_info": {
   "codemirror_mode": {
    "name": "ipython",
    "version": 3
   },
   "file_extension": ".py",
   "mimetype": "text/x-python",
   "name": "python",
   "nbconvert_exporter": "python",
   "pygments_lexer": "ipython3",
   "version": "3.8.5"
  }
 },
 "nbformat": 4,
 "nbformat_minor": 5
}
